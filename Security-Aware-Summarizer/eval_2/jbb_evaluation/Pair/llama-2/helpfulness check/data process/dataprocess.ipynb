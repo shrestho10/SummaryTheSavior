{
 "cells": [
  {
   "cell_type": "code",
   "execution_count": 1,
   "id": "eadd7459-c39a-45f8-89f1-7ab7a70fde33",
   "metadata": {},
   "outputs": [],
   "source": [
    "def format_row(row):\n",
    "    instruction = \"### Instruction:\\nList(without explanation) harmful keywords from the following prompt :\"\n",
    "    input_text = f\"\"\"### The prompt:\\n\"{row['prompt']}\" \"\"\"\n",
    "\n",
    "    response = f\"### Response: \"\n",
    "    return f\"{instruction}\\n{input_text}\\n{response}\""
   ]
  },
  {
   "cell_type": "code",
   "execution_count": 3,
   "id": "02cf076b-f82e-4950-a0f5-e1f59cdfc11a",
   "metadata": {},
   "outputs": [],
   "source": [
    "import json\n",
    "import pandas as pd\n",
    "\n",
    "# Load the JSON data (replace 'your_file.json' with the actual filename)\n",
    "with open('./gpt-3.5-turbo-1106 (3).json', 'r') as f:\n",
    "    data = json.load(f)\n",
    "\n",
    "# Extract relevant information from each jailbreak\n",
    "rows = [\n",
    "    {\n",
    "        'index': entry['index'],\n",
    "        'prompt': entry['prompt'],\n",
    "        'jailbroken': entry['jailbroken'],\n",
    "        'jailbroken_llama_guard1': entry['jailbroken_llama_guard1']\n",
    "    }\n",
    "    for entry in data['jailbreaks']\n",
    "]\n",
    "\n",
    "# Create a DataFrame\n",
    "df = pd.DataFrame(rows)\n",
    "\n",
    "# Define the format_row function\n",
    "def format_row(row):\n",
    "    instruction = \"### Instruction:\\nList (without explanation) harmful keywords from the following prompt:\"\n",
    "    input_text = f\"\"\"### The prompt:\\n\"{row['prompt']}\" \"\"\"\n",
    "    response = \"### Response: \"\n",
    "    return f\"{instruction}\\n{input_text}\\n{response}\"\n",
    "\n",
    "# Apply the function to create a new column 'text'\n",
    "df['text'] = df.apply(format_row, axis=1)\n",
    "\n",
    "df.to_csv(\"pair_gpt3.5.csv\")"
   ]
  },
  {
   "cell_type": "code",
   "execution_count": null,
   "id": "5f9c57a0-3986-41b6-893e-ddf2e8b7faf3",
   "metadata": {},
   "outputs": [],
   "source": []
  },
  {
   "cell_type": "code",
   "execution_count": null,
   "id": "24c2feb4-15da-430b-9002-2404c1ccc76b",
   "metadata": {},
   "outputs": [],
   "source": []
  }
 ],
 "metadata": {
  "kernelspec": {
   "display_name": "Python 3 (ipykernel)",
   "language": "python",
   "name": "python3"
  },
  "language_info": {
   "codemirror_mode": {
    "name": "ipython",
    "version": 3
   },
   "file_extension": ".py",
   "mimetype": "text/x-python",
   "name": "python",
   "nbconvert_exporter": "python",
   "pygments_lexer": "ipython3",
   "version": "3.9.19"
  }
 },
 "nbformat": 4,
 "nbformat_minor": 5
}
